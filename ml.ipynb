{
 "cells": [
  {
   "cell_type": "code",
   "execution_count": 1,
   "id": "caeddf22-3009-43b7-8f44-9c1c3cd77af0",
   "metadata": {},
   "outputs": [
    {
     "name": "stdout",
     "output_type": "stream",
     "text": [
      "0    1\n",
      "1    2\n",
      "2    3\n",
      "3    4\n",
      "dtype: int64\n"
     ]
    }
   ],
   "source": [
    "import pandas as pd\n",
    "data=[1,2,3,4]\n",
    "v=pd.Series(data)\n",
    "print(v)\n"
   ]
  },
  {
   "cell_type": "code",
   "execution_count": 5,
   "id": "6e1d63cd-4e76-4efa-acfd-43caad9d25f5",
   "metadata": {},
   "outputs": [
    {
     "name": "stdout",
     "output_type": "stream",
     "text": [
      "      Name  Age         City\n",
      "0    Alice   25     New York\n",
      "1      Bob   30  Los Angeles\n",
      "2  Charlie   35      Chicago\n"
     ]
    }
   ],
   "source": [
    "import pandas as pd\n",
    "data = {\n",
    "'Name': ['Alice', 'Bob', 'Charlie'],\n",
    "'Age': [25, 30, 35],\n",
    "'City': ['New York', 'Los Angeles', 'Chicago']\n",
    "}\n",
    "df = pd.DataFrame(data)\n",
    "print(df)"
   ]
  },
  {
   "cell_type": "code",
   "execution_count": 5,
   "id": "fa0f6dc2-7737-426d-b68e-d1c2ebfd1cb1",
   "metadata": {},
   "outputs": [
    {
     "name": "stdout",
     "output_type": "stream",
     "text": [
      "   TransactionID TransactionDate  UserID  ProductID  Quantity\n",
      "0              1      2010-08-21     7.0          2         1\n",
      "1              2      2011-05-26     3.0          4         1\n",
      "2              3      2011-06-16     3.0          3         1\n",
      "3              4      2012-08-26     1.0          2         3\n",
      "4              5      2013-06-06     2.0          4         1\n",
      "5              6      2013-12-23     2.0          5         6\n",
      "6              7      2013-12-30     3.0          4         1\n",
      "7              8      2014-04-24     NaN          2         3\n",
      "8              9      2015-04-24     7.0          4         3\n",
      "9             10      2016-05-08     3.0          4         4\n",
      "   TransactionID TransactionDate  UserID  ProductID  Quantity\n",
      "5              6      2013-12-23     2.0          5         6\n",
      "6              7      2013-12-30     3.0          4         1\n",
      "7              8      2014-04-24     NaN          2         3\n",
      "8              9      2015-04-24     7.0          4         3\n",
      "9             10      2016-05-08     3.0          4         4\n",
      "<class 'pandas.core.frame.DataFrame'>\n",
      "RangeIndex: 10 entries, 0 to 9\n",
      "Data columns (total 5 columns):\n",
      " #   Column           Non-Null Count  Dtype  \n",
      "---  ------           --------------  -----  \n",
      " 0   TransactionID    10 non-null     int64  \n",
      " 1   TransactionDate  10 non-null     object \n",
      " 2   UserID           9 non-null      float64\n",
      " 3   ProductID        10 non-null     int64  \n",
      " 4   Quantity         10 non-null     int64  \n",
      "dtypes: float64(1), int64(3), object(1)\n",
      "memory usage: 528.0+ bytes\n",
      "None\n"
     ]
    }
   ],
   "source": [
    "import pandas as pd\n",
    "df=pd.read_csv('transactions.csv')\n",
    "print(df.head(10))\n",
    "print(df.tail(5))\n",
    "print(df.info())\n"
   ]
  },
  {
   "cell_type": "code",
   "execution_count": 8,
   "id": "f1b173b6-938d-48ef-881f-344b421937c7",
   "metadata": {},
   "outputs": [
    {
     "name": "stdout",
     "output_type": "stream",
     "text": [
      "       TransactionID    UserID  ProductID   Quantity\n",
      "count       10.00000  9.000000  10.000000  10.000000\n",
      "mean         5.50000  3.444444   3.400000   2.400000\n",
      "std          3.02765  2.127858   1.074968   1.712698\n",
      "min          1.00000  1.000000   2.000000   1.000000\n",
      "25%          3.25000  2.000000   2.250000   1.000000\n",
      "50%          5.50000  3.000000   4.000000   2.000000\n",
      "75%          7.75000  3.000000   4.000000   3.000000\n",
      "max         10.00000  7.000000   5.000000   6.000000\n",
      "TransactionID               2\n",
      "TransactionDate    2011-05-26\n",
      "UserID                    3.0\n",
      "ProductID                   4\n",
      "Quantity                    1\n",
      "Name: 1, dtype: object\n"
     ]
    }
   ],
   "source": [
    "print(df.describe())\n",
    "print(df.iloc[1])\n"
   ]
  },
  {
   "cell_type": "code",
   "execution_count": 13,
   "id": "8a3a875c-11ef-4f04-adcb-3ce110580d8a",
   "metadata": {},
   "outputs": [
    {
     "name": "stdout",
     "output_type": "stream",
     "text": [
      "   UserID  Quantity\n",
      "0     7.0         1\n",
      "1     3.0         1\n",
      "2     3.0         1\n",
      "3     1.0         3\n",
      "4     2.0         1\n",
      "5     2.0         6\n",
      "6     3.0         1\n",
      "7     NaN         3\n",
      "8     7.0         3\n",
      "9     3.0         4\n"
     ]
    }
   ],
   "source": [
    "print(df[['UserID','Quantity']])"
   ]
  },
  {
   "cell_type": "code",
   "execution_count": 15,
   "id": "0b5eb290-6a61-44de-a71f-79738120a08e",
   "metadata": {},
   "outputs": [
    {
     "name": "stdout",
     "output_type": "stream",
     "text": [
      "   TransactionID TransactionDate  UserID  ProductID  Quantity\n",
      "3              4      2012-08-26     1.0          2         3\n",
      "5              6      2013-12-23     2.0          5         6\n",
      "7              8      2014-04-24     NaN          2         3\n",
      "8              9      2015-04-24     7.0          4         3\n",
      "9             10      2016-05-08     3.0          4         4\n"
     ]
    }
   ],
   "source": [
    "filtered_df = df[df['Quantity'] > 1]\n",
    "print(filtered_df)"
   ]
  },
  {
   "cell_type": "code",
   "execution_count": 19,
   "id": "0e9d0da9-55e2-4f89-9131-9de6caa4d15d",
   "metadata": {},
   "outputs": [
    {
     "name": "stdout",
     "output_type": "stream",
     "text": [
      "   TransactionID TransactionDate  UserID  ProductID  Quant\n",
      "0              1      2010-08-21     7.0          2      1\n",
      "1              2      2011-05-26     3.0          4      1\n",
      "2              3      2011-06-16     3.0          3      1\n",
      "3              4      2012-08-26     1.0          2      3\n",
      "4              5      2013-06-06     2.0          4      1\n"
     ]
    }
   ],
   "source": [
    "df.rename(columns={\"Quantity\": \"Quant\"}, inplace=True)\n",
    "print(df.head())"
   ]
  },
  {
   "cell_type": "code",
   "execution_count": 30,
   "id": "8f14e9f3-4c42-4b2d-8c01-72076b552060",
   "metadata": {},
   "outputs": [
    {
     "name": "stdout",
     "output_type": "stream",
     "text": [
      "TransactionID      0\n",
      "TransactionDate    0\n",
      "UserID             0\n",
      "ProductID          0\n",
      "Quant              0\n",
      "dtype: int64\n"
     ]
    }
   ],
   "source": [
    "print(df.isnull().sum())\n",
    "df['UserID'] = df['UserID'].fillna(df['UserID'].mean())"
   ]
  },
  {
   "cell_type": "code",
   "execution_count": 31,
   "id": "564159ae-3fc8-40d7-a4b5-0fe5a6400c6d",
   "metadata": {},
   "outputs": [
    {
     "name": "stdout",
     "output_type": "stream",
     "text": [
      "   TransactionID TransactionDate  UserID  ProductID  Quant\n",
      "0              1      2010-08-21     7.0          2      1\n",
      "1              2      2011-05-26     3.0          4      1\n",
      "2              3      2011-06-16     3.0          3      1\n",
      "3              4      2012-08-26     1.0          2      3\n",
      "4              5      2013-06-06     2.0          4      1\n",
      "5              6      2013-12-23     2.0          5      6\n"
     ]
    }
   ],
   "source": [
    "df.dropna(inplace=True)\n",
    "print(df.head(6))"
   ]
  },
  {
   "cell_type": "code",
   "execution_count": 29,
   "id": "cba7df92-e087-4303-ae0c-cc9d8a619fde",
   "metadata": {},
   "outputs": [
    {
     "name": "stdout",
     "output_type": "stream",
     "text": [
      "   TransactionID TransactionDate    UserID  ProductID  Quant\n",
      "5              6      2013-12-23  2.000000          5      6\n",
      "9             10      2016-05-08  3.000000          4      4\n",
      "8              9      2015-04-24  7.000000          4      3\n",
      "3              4      2012-08-26  1.000000          2      3\n",
      "7              8      2014-04-24  3.444444          2      3\n"
     ]
    }
   ],
   "source": [
    "df_sorted = df.sort_values(by=[\"Quant\"],ascending=[False])\n",
    "print(df_sorted.head())"
   ]
  },
  {
   "cell_type": "code",
   "execution_count": 32,
   "id": "f3c50d22-0d2e-47e4-b03a-d0fe0a61aa26",
   "metadata": {},
   "outputs": [
    {
     "name": "stdout",
     "output_type": "stream",
     "text": [
      "   TransactionID TransactionDate    UserID  ProductID  Quant\n",
      "3              4      2012-08-26  1.000000          2      3\n",
      "5              6      2013-12-23  2.000000          5      6\n",
      "7              8      2014-04-24  3.444444          2      3\n",
      "8              9      2015-04-24  7.000000          4      3\n",
      "9             10      2016-05-08  3.000000          4      4\n"
     ]
    }
   ],
   "source": [
    "subset = df[df['Quant'] > 1]\n",
    "print(subset)"
   ]
  },
  {
   "cell_type": "code",
   "execution_count": 34,
   "id": "3e4b9cb8-96c1-407d-ba55-2fb71f9d8d0c",
   "metadata": {},
   "outputs": [
    {
     "name": "stdout",
     "output_type": "stream",
     "text": [
      "   TransactionID TransactionDate  UserID  ProductID  Quant\n",
      "0              1      2010-08-21     7.0          2      1\n",
      "2              3      2011-06-16     3.0          3      1\n",
      "4              5      2013-06-06     2.0          4      1\n",
      "6              7      2013-12-30     3.0          4      1\n",
      "8              9      2015-04-24     7.0          4      3\n"
     ]
    }
   ],
   "source": [
    "foo = [True, False, True, False,True, False, True, False,True, False] # Example of a boolean array\n",
    "subset_rows = df[foo]\n",
    "print(subset_rows)"
   ]
  },
  {
   "cell_type": "code",
   "execution_count": 36,
   "id": "bd1e8b4e-8244-4d9b-94b8-ae56c71d3a80",
   "metadata": {},
   "outputs": [
    {
     "name": "stdout",
     "output_type": "stream",
     "text": [
      "   TransactionID TransactionDate\n",
      "3              4      2012-08-26\n",
      "5              6      2013-12-23\n",
      "7              8      2014-04-24\n",
      "8              9      2015-04-24\n",
      "9             10      2016-05-08\n"
     ]
    }
   ],
   "source": [
    "subset = df[df['Quant'] > 1][['TransactionID',\n",
    "'TransactionDate']]\n",
    "print(subset)"
   ]
  },
  {
   "cell_type": "code",
   "execution_count": 41,
   "id": "63bfa258-6981-4da0-ac89-951c9a90df73",
   "metadata": {},
   "outputs": [
    {
     "name": "stdout",
     "output_type": "stream",
     "text": [
      "  TransactionDate  TransactionID\n",
      "0      2010-08-21              1\n",
      "1      2011-05-26              2\n",
      "2      2011-06-16              3\n",
      "3      2012-08-26              4\n",
      "4      2013-06-06              5\n",
      "5      2013-12-23              6\n",
      "6      2013-12-30              7\n",
      "7      2014-04-24              8\n",
      "8      2015-04-24              9\n",
      "9      2016-05-08             10\n"
     ]
    }
   ],
   "source": [
    "columns_to_select = ['TransactionDate','TransactionID']\n",
    "subset_columns = df[columns_to_select]\n",
    "print(subset_columns)"
   ]
  },
  {
   "cell_type": "code",
   "execution_count": 46,
   "id": "9c1a2367-4c32-4ad5-b046-f0abd93342ca",
   "metadata": {},
   "outputs": [
    {
     "name": "stdout",
     "output_type": "stream",
     "text": [
      "       TransactionID     UserID  ProductID      Quant\n",
      "count       10.00000  10.000000  10.000000  10.000000\n",
      "mean         5.50000   3.444444   3.400000   2.400000\n",
      "std          3.02765   2.006163   1.074968   1.712698\n",
      "min          1.00000   1.000000   2.000000   1.000000\n",
      "25%          3.25000   2.250000   2.250000   1.000000\n",
      "50%          5.50000   3.000000   4.000000   2.000000\n",
      "75%          7.75000   3.333333   4.000000   3.000000\n",
      "max         10.00000   7.000000   5.000000   6.000000\n",
      "<class 'pandas.core.frame.DataFrame'>\n",
      "RangeIndex: 10 entries, 0 to 9\n",
      "Data columns (total 5 columns):\n",
      " #   Column           Non-Null Count  Dtype  \n",
      "---  ------           --------------  -----  \n",
      " 0   TransactionID    10 non-null     int64  \n",
      " 1   TransactionDate  10 non-null     object \n",
      " 2   UserID           10 non-null     float64\n",
      " 3   ProductID        10 non-null     int64  \n",
      " 4   Quant            10 non-null     int64  \n",
      "dtypes: float64(1), int64(3), object(1)\n",
      "memory usage: 528.0+ bytes\n",
      "None\n",
      "<pandas.core.indexing._iLocIndexer object at 0x7c1d207e09a0>\n"
     ]
    }
   ],
   "source": [
    "print(df.describe())#1\n",
    "print(df.info())#2,3\n",
    "print(df.iloc())"
   ]
  },
  {
   "cell_type": "code",
   "execution_count": 49,
   "id": "006cc8d1-c499-40d2-9c12-aefbd327c2bc",
   "metadata": {},
   "outputs": [
    {
     "name": "stdout",
     "output_type": "stream",
     "text": [
      "0   2010-08-21\n",
      "1   2011-05-26\n",
      "2   2011-06-16\n",
      "3   2012-08-26\n",
      "4   2013-06-06\n",
      "5   2013-12-23\n",
      "6   2013-12-30\n",
      "7   2014-04-24\n",
      "8   2015-04-24\n",
      "9   2016-05-08\n",
      "Name: TransactionDate, dtype: datetime64[ns]\n"
     ]
    }
   ],
   "source": [
    "df['TransactionDate'] = pd.to_datetime(df['TransactionDate'])\n",
    "print(df)"
   ]
  },
  {
   "cell_type": "code",
   "execution_count": 53,
   "id": "9e5769a9-d6d6-4c16-b03f-913df27cc475",
   "metadata": {},
   "outputs": [
    {
     "name": "stdout",
     "output_type": "stream",
     "text": [
      "   TransactionID TransactionDate    UserID  ProductID  Quant        Foo\n",
      "0              1      2010-08-21  7.000000          2      1  14.000000\n",
      "1              2      2011-05-26  3.000000          4      1  12.000000\n",
      "2              3      2011-06-16  3.000000          3      1   9.000000\n",
      "3              4      2012-08-26  1.000000          2      3   2.000000\n",
      "4              5      2013-06-06  2.000000          4      1   8.000000\n",
      "5              6      2013-12-23  2.000000          5      6  10.000000\n",
      "6              7      2013-12-30  3.000000          4      1  12.000000\n",
      "7              8      2014-04-24  3.444444          2      3   6.888889\n",
      "8              9      2015-04-24  7.000000          4      3  28.000000\n",
      "9             10      2016-05-08  3.000000          4      4  12.000000\n"
     ]
    }
   ],
   "source": [
    "df['Foo'] = df['UserID'] * df['ProductID']\n",
    "print(df.head(10))"
   ]
  },
  {
   "cell_type": "code",
   "execution_count": null,
   "id": "529fee97-c194-4ff6-a5b0-8234b959732d",
   "metadata": {},
   "outputs": [],
   "source": []
  }
 ],
 "metadata": {
  "kernelspec": {
   "display_name": "Python 3 (ipykernel)",
   "language": "python",
   "name": "python3"
  },
  "language_info": {
   "codemirror_mode": {
    "name": "ipython",
    "version": 3
   },
   "file_extension": ".py",
   "mimetype": "text/x-python",
   "name": "python",
   "nbconvert_exporter": "python",
   "pygments_lexer": "ipython3",
   "version": "3.10.12"
  }
 },
 "nbformat": 4,
 "nbformat_minor": 5
}
